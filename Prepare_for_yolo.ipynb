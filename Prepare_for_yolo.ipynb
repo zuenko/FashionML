{
 "cells": [
  {
   "cell_type": "code",
   "execution_count": 1,
   "metadata": {
    "ExecuteTime": {
     "end_time": "2018-07-17T19:59:44.379790Z",
     "start_time": "2018-07-17T19:59:44.155653Z"
    }
   },
   "outputs": [],
   "source": [
    "import numpy as np, pandas as pd\n",
    "from tqdm import tqdm_notebook, tqdm\n",
    "tqdm.pandas(desc=\"my bar!\")"
   ]
  },
  {
   "cell_type": "code",
   "execution_count": 2,
   "metadata": {
    "ExecuteTime": {
     "end_time": "2018-07-17T19:59:44.886040Z",
     "start_time": "2018-07-17T19:59:44.883601Z"
    }
   },
   "outputs": [],
   "source": [
    "def extr_data_txt(path):\n",
    "    \"\"\"\n",
    "    Load data from text file.\n",
    "    \"\"\"\n",
    "    with open(path, \"r\") as f:\n",
    "        data = []\n",
    "        for itr, line in tqdm_notebook(enumerate(f)):\n",
    "            # Because we got annotation in the first two lines\n",
    "            if itr >= 2:\n",
    "                data.append(line.split())\n",
    "    return data"
   ]
  },
  {
   "cell_type": "code",
   "execution_count": 3,
   "metadata": {
    "ExecuteTime": {
     "end_time": "2018-07-17T09:34:31.423261Z",
     "start_time": "2018-07-17T09:34:30.758650Z"
    }
   },
   "outputs": [
    {
     "data": {
      "application/vnd.jupyter.widget-view+json": {
       "model_id": "0d244fdd87b247078b773cf15827503d",
       "version_major": 2,
       "version_minor": 0
      },
      "text/plain": [
       "HBox(children=(IntProgress(value=1, bar_style='info', max=1), HTML(value='')))"
      ]
     },
     "metadata": {},
     "output_type": "display_data"
    },
    {
     "name": "stdout",
     "output_type": "stream",
     "text": [
      "\n"
     ]
    }
   ],
   "source": [
    "train_test_valid_anot = pd.DataFrame(extr_data_txt('data/Eval/list_eval_partition.txt'), \n",
    "                                     columns=['Path', 'type'])\n",
    "train_test_valid_anot.to_csv('data/Anno/train_test_valid_anot.csv' ,index=False)"
   ]
  },
  {
   "cell_type": "code",
   "execution_count": 5,
   "metadata": {
    "ExecuteTime": {
     "end_time": "2018-07-17T09:34:41.879126Z",
     "start_time": "2018-07-17T09:34:40.856662Z"
    }
   },
   "outputs": [
    {
     "data": {
      "application/vnd.jupyter.widget-view+json": {
       "model_id": "b5c069350bfa44af9ccc03a4709dfe7e",
       "version_major": 2,
       "version_minor": 0
      },
      "text/plain": [
       "HBox(children=(IntProgress(value=1, bar_style='info', max=1), HTML(value='')))"
      ]
     },
     "metadata": {},
     "output_type": "display_data"
    },
    {
     "name": "stdout",
     "output_type": "stream",
     "text": [
      "\n"
     ]
    }
   ],
   "source": [
    "categories_img = pd.DataFrame(extr_data_txt('data/Anno/list_category_img.txt'), \n",
    "                          columns=['Path', 'cat'])\n",
    "categories_img['cat'] = categories_img['cat'].apply(lambda x: int(x)-1)\n",
    "categories_img.to_csv('data/Anno/categories_img.csv' ,index=False)"
   ]
  },
  {
   "cell_type": "code",
   "execution_count": 6,
   "metadata": {
    "ExecuteTime": {
     "end_time": "2018-07-17T09:34:46.054072Z",
     "start_time": "2018-07-17T09:34:45.167344Z"
    }
   },
   "outputs": [
    {
     "data": {
      "application/vnd.jupyter.widget-view+json": {
       "model_id": "8682e78d9994441b845a89db7a37e0fe",
       "version_major": 2,
       "version_minor": 0
      },
      "text/plain": [
       "HBox(children=(IntProgress(value=1, bar_style='info', max=1), HTML(value='')))"
      ]
     },
     "metadata": {},
     "output_type": "display_data"
    },
    {
     "name": "stdout",
     "output_type": "stream",
     "text": [
      "\n"
     ]
    }
   ],
   "source": [
    "box_img = pd.DataFrame(extr_data_txt('data/Anno/list_bbox.txt'), \n",
    "                          columns=['Path', 'x1', 'y1', 'x2', 'y2'])\n",
    "box_img.to_csv('data/Anno/bbox_img.csv' ,index=False)"
   ]
  },
  {
   "cell_type": "raw",
   "metadata": {
    "ExecuteTime": {
     "end_time": "2018-07-13T22:00:42.329970Z",
     "start_time": "2018-07-13T21:58:05.861953Z"
    }
   },
   "source": [
    "with open('data/Anno/list_attr_img.txt', \"r\") as f:\n",
    "    data = []\n",
    "    for itr, line in tqdm_notebook(enumerate(f)):\n",
    "            if itr >= 2:\n",
    "                line = line.split()\n",
    "                # convert labels to np.int8 will help to store them all\n",
    "                tmp = [np.int8(line[i]) for i in range(1, 1001)]\n",
    "                # append Path\n",
    "                tmp.append(line[0])\n",
    "                data.append(tmp)"
   ]
  },
  {
   "cell_type": "raw",
   "metadata": {
    "ExecuteTime": {
     "end_time": "2018-07-13T22:18:52.287641Z",
     "start_time": "2018-07-13T22:00:42.331526Z"
    }
   },
   "source": [
    "pd.DataFrame(data).to_csv('data/Anno/Atr_img.csv', index=False)\n",
    "del data"
   ]
  },
  {
   "cell_type": "code",
   "execution_count": 7,
   "metadata": {
    "ExecuteTime": {
     "end_time": "2018-07-17T09:34:47.333889Z",
     "start_time": "2018-07-17T09:34:47.119028Z"
    }
   },
   "outputs": [],
   "source": [
    "bbox_img = pd.read_csv('data/Anno/bbox_img.csv')"
   ]
  },
  {
   "cell_type": "code",
   "execution_count": 8,
   "metadata": {
    "ExecuteTime": {
     "end_time": "2018-07-17T09:34:47.772978Z",
     "start_time": "2018-07-17T09:34:47.750304Z"
    }
   },
   "outputs": [],
   "source": [
    "import cv2"
   ]
  },
  {
   "cell_type": "code",
   "execution_count": 9,
   "metadata": {
    "ExecuteTime": {
     "end_time": "2018-07-17T09:34:48.393366Z",
     "start_time": "2018-07-17T09:34:48.390375Z"
    }
   },
   "outputs": [],
   "source": [
    "def convert_labels(path, x1, y1, x2, y2):\n",
    "    \"\"\"\n",
    "    Definition: Parses label files to extract label and bounding box\n",
    "        coordinates.  Converts (x1, y1, x1, y2) KITTI format to\n",
    "        (x, y, width, height) normalized YOLO format.\n",
    "    \"\"\"\n",
    "    size = get_img_shape(path)\n",
    "    dw = 1./size[0]\n",
    "    dh = 1./size[1]\n",
    "    x = (x1 + x2)/2.0\n",
    "    y = (y1 + y2)/2.0\n",
    "    w = x2 - x1\n",
    "    h = y1 - y2\n",
    "    x = x*dw\n",
    "    w = w*dw\n",
    "    y = y*dh\n",
    "    h = h*dh\n",
    "    return (x,y,w,h)\n",
    "\n",
    "def get_img_shape(path):\n",
    "    path = 'data/'+path\n",
    "    img = cv2.imread(path)\n",
    "    try:\n",
    "        return img.shape\n",
    "    except AttributeError:\n",
    "        print('error! ', path)\n",
    "        return (None, None, None)"
   ]
  },
  {
   "cell_type": "code",
   "execution_count": 10,
   "metadata": {
    "ExecuteTime": {
     "end_time": "2018-07-17T09:37:09.983134Z",
     "start_time": "2018-07-17T09:34:49.142553Z"
    },
    "scrolled": true
   },
   "outputs": [
    {
     "name": "stderr",
     "output_type": "stream",
     "text": [
      "my bar!: 100%|██████████| 289222/289222 [02:20<00:00, 2055.87it/s]\n"
     ]
    }
   ],
   "source": [
    "bbox_img['x'], bbox_img['y'], bbox_img['width'], bbox_img['height'] = zip(*bbox_img.progress_apply(lambda row: convert_labels(row['Path'], row['x1'], row['y1'],\n",
    "                                                                                                                              row['x2'], row['y2']), axis=1))"
   ]
  },
  {
   "cell_type": "code",
   "execution_count": 11,
   "metadata": {
    "ExecuteTime": {
     "end_time": "2018-07-17T09:37:10.377640Z",
     "start_time": "2018-07-17T09:37:10.025802Z"
    }
   },
   "outputs": [],
   "source": [
    "df = bbox_img.merge(train_test_valid_anot).merge(categories_img)"
   ]
  },
  {
   "cell_type": "code",
   "execution_count": 12,
   "metadata": {
    "ExecuteTime": {
     "end_time": "2018-07-17T09:37:12.539101Z",
     "start_time": "2018-07-17T09:37:10.447659Z"
    }
   },
   "outputs": [],
   "source": [
    "df.to_csv('data/Anno/annotation_w-o_atr.csv', index=False)"
   ]
  },
  {
   "cell_type": "code",
   "execution_count": 3,
   "metadata": {
    "ExecuteTime": {
     "end_time": "2018-07-17T20:00:01.732447Z",
     "start_time": "2018-07-17T19:59:48.530973Z"
    }
   },
   "outputs": [],
   "source": [
    "dtypes = {str(i): np.int8 for i in range(0, 1000)}\n",
    "mem = pd.read_csv('data/Anno/Atr_img.csv', dtype=dtypes)"
   ]
  },
  {
   "cell_type": "code",
   "execution_count": 4,
   "metadata": {
    "ExecuteTime": {
     "end_time": "2018-07-17T20:00:07.292562Z",
     "start_time": "2018-07-17T20:00:07.283601Z"
    }
   },
   "outputs": [],
   "source": [
    "mem['Path'] = mem['1000']\n",
    "del mem['1000']"
   ]
  },
  {
   "cell_type": "code",
   "execution_count": 5,
   "metadata": {
    "ExecuteTime": {
     "end_time": "2018-07-17T20:00:11.037806Z",
     "start_time": "2018-07-17T20:00:11.018599Z"
    }
   },
   "outputs": [
    {
     "data": {
      "application/vnd.jupyter.widget-view+json": {
       "model_id": "a83dc2009fa2436c8c291c6fd95a4044",
       "version_major": 2,
       "version_minor": 0
      },
      "text/plain": [
       "HBox(children=(IntProgress(value=1, bar_style='info', max=1), HTML(value='')))"
      ]
     },
     "metadata": {},
     "output_type": "display_data"
    },
    {
     "name": "stdout",
     "output_type": "stream",
     "text": [
      "\n"
     ]
    }
   ],
   "source": [
    "with open('data/Anno/list_attr_cloth.txt', \"r\") as f:\n",
    "    data = []\n",
    "    for itr, line in tqdm_notebook(enumerate(f)):\n",
    "        if itr >= 2:\n",
    "                line = line.split()\n",
    "                data.append(line[0])\n",
    "# Because last column is 'Path'\n",
    "data.append('Path')"
   ]
  },
  {
   "cell_type": "code",
   "execution_count": 6,
   "metadata": {
    "ExecuteTime": {
     "end_time": "2018-07-17T20:02:31.466981Z",
     "start_time": "2018-07-17T20:00:13.706419Z"
    }
   },
   "outputs": [],
   "source": [
    "mem.columns = data\n",
    "mem.to_csv('data/Anno/annotation_atr.csv', index=False)"
   ]
  },
  {
   "cell_type": "markdown",
   "metadata": {},
   "source": [
    "In attribute labels, \"1\" represents positive while \"-1\" represents negative, '0' represents unknown;"
   ]
  },
  {
   "cell_type": "markdown",
   "metadata": {},
   "source": [
    "Landmarks "
   ]
  },
  {
   "cell_type": "code",
   "execution_count": 13,
   "metadata": {
    "ExecuteTime": {
     "end_time": "2018-07-17T09:37:14.758437Z",
     "start_time": "2018-07-17T09:37:12.603049Z"
    }
   },
   "outputs": [
    {
     "data": {
      "application/vnd.jupyter.widget-view+json": {
       "model_id": "6e11f8c11f1441eda1d972dd47743b80",
       "version_major": 2,
       "version_minor": 0
      },
      "text/plain": [
       "HBox(children=(IntProgress(value=1, bar_style='info', max=1), HTML(value='')))"
      ]
     },
     "metadata": {},
     "output_type": "display_data"
    },
    {
     "name": "stdout",
     "output_type": "stream",
     "text": [
      "\n"
     ]
    }
   ],
   "source": [
    "list_ladmarks = pd.DataFrame(extr_data_txt('data/Anno/list_landmarks.txt'))\n",
    "\n",
    "land_columns = 'image_name  clothes_type  variation_type  landmark_visibility_1 landmark_location_x_1 landmark_location_y_1  landmark_visibility_2 landmark_location_x_2 landmark_location_y_2  landmark_visibility_3 landmark_location_x_3 landmark_location_y_3  landmark_visibility_4 landmark_location_x_4 landmark_location_y_4  landmark_visibility_5 landmark_location_x_5 landmark_location_y_5  landmark_visibility_6 landmark_location_x_6 landmark_location_y_6  landmark_visibility_7 landmark_location_x_7 landmark_location_y_7  landmark_visibility_8 landmark_location_x_8 landmark_location_y_8'.split()\n",
    "list_ladmarks.rename(columns={i: land_columns[i] for i in range(0, 26)}, inplace=True)\n",
    "\n",
    "list_ladmarks.to_csv('data/Anno/list_landmarks.csv' ,index=False)"
   ]
  },
  {
   "cell_type": "code",
   "execution_count": 14,
   "metadata": {
    "ExecuteTime": {
     "end_time": "2018-07-17T09:37:15.635727Z",
     "start_time": "2018-07-17T09:37:15.144461Z"
    }
   },
   "outputs": [],
   "source": [
    "list_ladmarks = pd.read_csv('data/Anno/list_landmarks.csv')"
   ]
  },
  {
   "cell_type": "code",
   "execution_count": null,
   "metadata": {},
   "outputs": [],
   "source": []
  }
 ],
 "metadata": {
  "kernelspec": {
   "display_name": "Python 3",
   "language": "python",
   "name": "python3"
  },
  "language_info": {
   "codemirror_mode": {
    "name": "ipython",
    "version": 3
   },
   "file_extension": ".py",
   "mimetype": "text/x-python",
   "name": "python",
   "nbconvert_exporter": "python",
   "pygments_lexer": "ipython3",
   "version": "3.6.6"
  },
  "toc": {
   "base_numbering": 1,
   "nav_menu": {},
   "number_sections": true,
   "sideBar": true,
   "skip_h1_title": false,
   "title_cell": "Table of Contents",
   "title_sidebar": "Contents",
   "toc_cell": false,
   "toc_position": {},
   "toc_section_display": true,
   "toc_window_display": false
  },
  "varInspector": {
   "cols": {
    "lenName": 16,
    "lenType": 16,
    "lenVar": 40
   },
   "kernels_config": {
    "python": {
     "delete_cmd_postfix": "",
     "delete_cmd_prefix": "del ",
     "library": "var_list.py",
     "varRefreshCmd": "print(var_dic_list())"
    },
    "r": {
     "delete_cmd_postfix": ") ",
     "delete_cmd_prefix": "rm(",
     "library": "var_list.r",
     "varRefreshCmd": "cat(var_dic_list()) "
    }
   },
   "types_to_exclude": [
    "module",
    "function",
    "builtin_function_or_method",
    "instance",
    "_Feature"
   ],
   "window_display": false
  }
 },
 "nbformat": 4,
 "nbformat_minor": 2
}
