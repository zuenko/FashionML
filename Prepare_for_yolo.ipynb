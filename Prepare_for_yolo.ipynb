{
 "cells": [
  {
   "cell_type": "code",
   "execution_count": 1,
   "metadata": {
    "ExecuteTime": {
     "end_time": "2018-07-15T17:43:39.673432Z",
     "start_time": "2018-07-15T17:43:39.499170Z"
    }
   },
   "outputs": [],
   "source": [
    "import numpy as np, pandas as pd\n",
    "from tqdm import tqdm_notebook, tqdm\n",
    "tqdm.pandas(desc=\"my bar!\")"
   ]
  },
  {
   "cell_type": "code",
   "execution_count": 2,
   "metadata": {
    "ExecuteTime": {
     "end_time": "2018-07-15T17:43:39.676383Z",
     "start_time": "2018-07-15T17:43:39.674411Z"
    }
   },
   "outputs": [],
   "source": [
    "def extr_data_txt(path):\n",
    "    with open(path, \"r\") as f:\n",
    "        data = []\n",
    "        for itr, line in tqdm_notebook(enumerate(f)):\n",
    "            data.append(line.split())\n",
    "    return data[2:]"
   ]
  },
  {
   "cell_type": "code",
   "execution_count": 3,
   "metadata": {
    "ExecuteTime": {
     "end_time": "2018-07-15T17:43:40.307990Z",
     "start_time": "2018-07-15T17:43:39.677386Z"
    }
   },
   "outputs": [
    {
     "data": {
      "application/vnd.jupyter.widget-view+json": {
       "model_id": "31d578b863cc4e09a47acae3e2cf1fc0",
       "version_major": 2,
       "version_minor": 0
      },
      "text/plain": [
       "HBox(children=(IntProgress(value=1, bar_style='info', max=1), HTML(value='')))"
      ]
     },
     "metadata": {},
     "output_type": "display_data"
    },
    {
     "name": "stdout",
     "output_type": "stream",
     "text": [
      "\n"
     ]
    }
   ],
   "source": [
    "train_test_valid_anot = pd.DataFrame(extr_data_txt('data/Eval/list_eval_partition.txt'), \n",
    "                                     columns=['Path', 'type'])\n",
    "train_test_valid_anot.to_csv('data/Anno/train_test_valid_anot.csv' ,index=False)"
   ]
  },
  {
   "cell_type": "code",
   "execution_count": 4,
   "metadata": {
    "ExecuteTime": {
     "end_time": "2018-07-15T17:43:40.977058Z",
     "start_time": "2018-07-15T17:43:40.309115Z"
    }
   },
   "outputs": [
    {
     "data": {
      "application/vnd.jupyter.widget-view+json": {
       "model_id": "fefe3c6538e54d81965d96b03bfe3059",
       "version_major": 2,
       "version_minor": 0
      },
      "text/plain": [
       "HBox(children=(IntProgress(value=1, bar_style='info', max=1), HTML(value='')))"
      ]
     },
     "metadata": {},
     "output_type": "display_data"
    },
    {
     "name": "stdout",
     "output_type": "stream",
     "text": [
      "\n"
     ]
    }
   ],
   "source": [
    "categories_img = pd.DataFrame(extr_data_txt('data/Anno/list_category_img.txt'), \n",
    "                          columns=['Path', 'cat'])\n",
    "categories_img.to_csv('data/Anno/categories_img.csv' ,index=False)"
   ]
  },
  {
   "cell_type": "code",
   "execution_count": 5,
   "metadata": {
    "ExecuteTime": {
     "end_time": "2018-07-15T17:43:41.852576Z",
     "start_time": "2018-07-15T17:43:40.978313Z"
    }
   },
   "outputs": [
    {
     "data": {
      "application/vnd.jupyter.widget-view+json": {
       "model_id": "678367b54a53418db7d035c1f3da5069",
       "version_major": 2,
       "version_minor": 0
      },
      "text/plain": [
       "HBox(children=(IntProgress(value=1, bar_style='info', max=1), HTML(value='')))"
      ]
     },
     "metadata": {},
     "output_type": "display_data"
    },
    {
     "name": "stdout",
     "output_type": "stream",
     "text": [
      "\n"
     ]
    }
   ],
   "source": [
    "box_img = pd.DataFrame(extr_data_txt('data/Anno/list_bbox.txt'), \n",
    "                          columns=['Path', 'x1', 'y1', 'x2', 'y2'])\n",
    "box_img.to_csv('data/Anno/bbox_img.csv' ,index=False)"
   ]
  },
  {
   "cell_type": "markdown",
   "metadata": {
    "ExecuteTime": {
     "end_time": "2018-07-13T22:00:42.329970Z",
     "start_time": "2018-07-13T21:58:05.861953Z"
    }
   },
   "source": [
    "with open('data/Anno/list_attr_img.txt', \"r\") as f:\n",
    "    data = []\n",
    "    for itr, line in tqdm_notebook(enumerate(f)):\n",
    "            if itr >= 2:\n",
    "                line = line.split()\n",
    "                tmp = [np.int8(line[i]) for i in range(1, 1001)]\n",
    "                tmp.append(line[0])\n",
    "                data.append(tmp)"
   ]
  },
  {
   "cell_type": "markdown",
   "metadata": {
    "ExecuteTime": {
     "end_time": "2018-07-13T22:18:52.287641Z",
     "start_time": "2018-07-13T22:00:42.331526Z"
    }
   },
   "source": [
    "pd.DataFrame(data).to_csv('data/Anno/Atr_img.csv', index=False)\n",
    "del data"
   ]
  },
  {
   "cell_type": "code",
   "execution_count": 6,
   "metadata": {
    "ExecuteTime": {
     "end_time": "2018-07-15T17:43:42.092348Z",
     "start_time": "2018-07-15T17:43:41.853922Z"
    }
   },
   "outputs": [],
   "source": [
    "bbox_img = pd.read_csv('data/Anno/bbox_img.csv')"
   ]
  },
  {
   "cell_type": "code",
   "execution_count": 7,
   "metadata": {
    "ExecuteTime": {
     "end_time": "2018-07-15T17:43:42.112868Z",
     "start_time": "2018-07-15T17:43:42.093573Z"
    }
   },
   "outputs": [],
   "source": [
    "import cv2"
   ]
  },
  {
   "cell_type": "code",
   "execution_count": 8,
   "metadata": {
    "ExecuteTime": {
     "end_time": "2018-07-15T17:43:42.117709Z",
     "start_time": "2018-07-15T17:43:42.114013Z"
    }
   },
   "outputs": [],
   "source": [
    "def parse_labels(path, x1, y1, x2, y2):\n",
    "    \"\"\"\n",
    "    Definition: Parses label files to extract label and bounding box\n",
    "        coordinates.  Converts (x1, y1, x1, y2) KITTI format to\n",
    "        (x, y, width, height) normalized YOLO format.\n",
    "    \"\"\"\n",
    "    box = [x1, y1, x2, y2]\n",
    "    size = get_img_shape(path)\n",
    "    dw = 1./size[0]\n",
    "    dh = 1./size[1]\n",
    "    x = (box[0] + box[2])/2.0\n",
    "    y = (box[1] + box[3])/2.0\n",
    "    w = box[2] - box[0]\n",
    "    h = box[1] - box[3]\n",
    "    x = x*dw\n",
    "    w = w*dw\n",
    "    y = y*dh\n",
    "    h = h*dh\n",
    "    return (x,y,w,h)\n",
    "\n",
    "def get_img_shape(path):\n",
    "    path = 'data/'+path\n",
    "    img = cv2.imread(path)\n",
    "    try:\n",
    "        return img.shape\n",
    "    except AttributeError:\n",
    "        print('error! ', path)\n",
    "        return (None, None, None)"
   ]
  },
  {
   "cell_type": "code",
   "execution_count": 9,
   "metadata": {
    "ExecuteTime": {
     "end_time": "2018-07-15T17:45:47.150455Z",
     "start_time": "2018-07-15T17:43:42.118894Z"
    },
    "scrolled": true
   },
   "outputs": [
    {
     "name": "stderr",
     "output_type": "stream",
     "text": [
      "my bar!: 100%|██████████| 289222/289222 [02:04<00:00, 2316.12it/s]\n"
     ]
    }
   ],
   "source": [
    "bbox_img['x'], bbox_img['y'], bbox_img['width'], bbox_img['height'] = zip(*bbox_img.progress_apply(lambda row: parse_labels(row['Path'], row['x1'], row['y1'],\n",
    "                                                                                                                            row['x2'], row['y2']), axis=1))"
   ]
  },
  {
   "cell_type": "code",
   "execution_count": 10,
   "metadata": {
    "ExecuteTime": {
     "end_time": "2018-07-15T17:45:47.506915Z",
     "start_time": "2018-07-15T17:45:47.151666Z"
    }
   },
   "outputs": [],
   "source": [
    "df = bbox_img.merge(train_test_valid_anot).merge(categories_img)"
   ]
  },
  {
   "cell_type": "code",
   "execution_count": 11,
   "metadata": {
    "ExecuteTime": {
     "end_time": "2018-07-15T17:45:49.418211Z",
     "start_time": "2018-07-15T17:45:47.507984Z"
    }
   },
   "outputs": [],
   "source": [
    "df.to_csv('data/Anno/annotation_w-o_atr.csv', index=False)"
   ]
  },
  {
   "cell_type": "markdown",
   "metadata": {
    "ExecuteTime": {
     "end_time": "2018-07-13T22:21:40.639273Z",
     "start_time": "2018-07-13T22:21:27.707440Z"
    }
   },
   "source": [
    "dtypes = {str(i): np.int8 for i in range(0, 1000)}\n",
    "mem = pd.read_csv('data/Anno/Atr_img.csv', dtype=dtypes)"
   ]
  },
  {
   "cell_type": "markdown",
   "metadata": {
    "ExecuteTime": {
     "end_time": "2018-07-13T22:21:40.654113Z",
     "start_time": "2018-07-13T22:21:40.642861Z"
    }
   },
   "source": [
    "mem['Path'] = mem['1000']\n",
    "del mem['1000']"
   ]
  },
  {
   "cell_type": "code",
   "execution_count": 12,
   "metadata": {
    "ExecuteTime": {
     "end_time": "2018-07-15T17:45:49.441152Z",
     "start_time": "2018-07-15T17:45:49.420873Z"
    }
   },
   "outputs": [
    {
     "data": {
      "application/vnd.jupyter.widget-view+json": {
       "model_id": "10869ee0ea464a9f8a9e7c6625e6d91f",
       "version_major": 2,
       "version_minor": 0
      },
      "text/plain": [
       "HBox(children=(IntProgress(value=1, bar_style='info', max=1), HTML(value='')))"
      ]
     },
     "metadata": {},
     "output_type": "display_data"
    },
    {
     "name": "stdout",
     "output_type": "stream",
     "text": [
      "\n"
     ]
    }
   ],
   "source": [
    "with open('data/Anno/list_attr_cloth.txt', \"r\") as f:\n",
    "    data = []\n",
    "    for itr, line in tqdm_notebook(enumerate(f)):\n",
    "        if itr >= 2:\n",
    "                line = line.split()\n",
    "                data.append(line[0])\n",
    "data.append('Path')"
   ]
  },
  {
   "cell_type": "code",
   "execution_count": 13,
   "metadata": {
    "ExecuteTime": {
     "end_time": "2018-07-15T17:45:49.507596Z",
     "start_time": "2018-07-15T17:45:49.442184Z"
    }
   },
   "outputs": [
    {
     "ename": "NameError",
     "evalue": "name 'mem' is not defined",
     "output_type": "error",
     "traceback": [
      "\u001b[0;31m---------------------------------------------------------------------------\u001b[0m",
      "\u001b[0;31mNameError\u001b[0m                                 Traceback (most recent call last)",
      "\u001b[0;32m<ipython-input-13-f89681968736>\u001b[0m in \u001b[0;36m<module>\u001b[0;34m()\u001b[0m\n\u001b[0;32m----> 1\u001b[0;31m \u001b[0mmem\u001b[0m\u001b[0;34m.\u001b[0m\u001b[0mcolumns\u001b[0m \u001b[0;34m=\u001b[0m \u001b[0mdata\u001b[0m\u001b[0;34m\u001b[0m\u001b[0m\n\u001b[0m\u001b[1;32m      2\u001b[0m \u001b[0mmem\u001b[0m\u001b[0;34m.\u001b[0m\u001b[0mto_csv\u001b[0m\u001b[0;34m(\u001b[0m\u001b[0;34m'data/Anno/annotation_atr.csv'\u001b[0m\u001b[0;34m,\u001b[0m \u001b[0mindex\u001b[0m\u001b[0;34m=\u001b[0m\u001b[0;32mFalse\u001b[0m\u001b[0;34m)\u001b[0m\u001b[0;34m\u001b[0m\u001b[0m\n",
      "\u001b[0;31mNameError\u001b[0m: name 'mem' is not defined"
     ]
    }
   ],
   "source": [
    "mem.columns = data\n",
    "mem.to_csv('data/Anno/annotation_atr.csv', index=False)"
   ]
  },
  {
   "cell_type": "markdown",
   "metadata": {},
   "source": [
    "In attribute labels, \"1\" represents positive while \"-1\" represents negative, '0' represents unknown;"
   ]
  },
  {
   "cell_type": "markdown",
   "metadata": {},
   "source": [
    "Landmarks "
   ]
  },
  {
   "cell_type": "code",
   "execution_count": null,
   "metadata": {
    "ExecuteTime": {
     "end_time": "2018-07-15T17:45:49.508241Z",
     "start_time": "2018-07-15T17:43:39.515Z"
    }
   },
   "outputs": [],
   "source": [
    "list_ladmarks = pd.DataFrame(extr_data_txt('data/Anno/list_landmarks.txt'))\n",
    "\n",
    "land_columns = 'image_name  clothes_type  variation_type  landmark_visibility_1 landmark_location_x_1 landmark_location_y_1  landmark_visibility_2 landmark_location_x_2 landmark_location_y_2  landmark_visibility_3 landmark_location_x_3 landmark_location_y_3  landmark_visibility_4 landmark_location_x_4 landmark_location_y_4  landmark_visibility_5 landmark_location_x_5 landmark_location_y_5  landmark_visibility_6 landmark_location_x_6 landmark_location_y_6  landmark_visibility_7 landmark_location_x_7 landmark_location_y_7  landmark_visibility_8 landmark_location_x_8 landmark_location_y_8'.split()\n",
    "list_ladmarks.rename(columns={i: land_columns[i] for i in range(0, 26)}, inplace=True)\n",
    "\n",
    "list_ladmarks.to_csv('data/Anno/list_landmarks.csv' ,index=False)"
   ]
  },
  {
   "cell_type": "code",
   "execution_count": 15,
   "metadata": {
    "ExecuteTime": {
     "end_time": "2018-07-15T21:49:48.549744Z",
     "start_time": "2018-07-15T21:49:48.144790Z"
    }
   },
   "outputs": [],
   "source": [
    "list_ladmarks = pd.read_csv('data/Anno/list_landmarks.csv')"
   ]
  },
  {
   "cell_type": "code",
   "execution_count": 22,
   "metadata": {
    "ExecuteTime": {
     "end_time": "2018-07-15T23:17:48.455443Z",
     "start_time": "2018-07-15T23:17:48.100693Z"
    }
   },
   "outputs": [],
   "source": [
    "df[df['type'] == 'train']['Path'].to_csv('data/train.txt', header=None, index=None, sep=' ', mode='a')\n",
    "df[df['type'] == 'test']['Path'].to_csv('data/test.txt', header=None, index=None, sep=' ', mode='a')\n",
    "df[df['type'] == 'val']['Path'].to_csv('data/val.txt', header=None, index=None, sep=' ', mode='a')"
   ]
  },
  {
   "cell_type": "code",
   "execution_count": 21,
   "metadata": {
    "ExecuteTime": {
     "end_time": "2018-07-15T23:17:10.341953Z",
     "start_time": "2018-07-15T23:17:10.330418Z"
    }
   },
   "outputs": [
    {
     "data": {
      "text/html": [
       "<div>\n",
       "<style scoped>\n",
       "    .dataframe tbody tr th:only-of-type {\n",
       "        vertical-align: middle;\n",
       "    }\n",
       "\n",
       "    .dataframe tbody tr th {\n",
       "        vertical-align: top;\n",
       "    }\n",
       "\n",
       "    .dataframe thead th {\n",
       "        text-align: right;\n",
       "    }\n",
       "</style>\n",
       "<table border=\"1\" class=\"dataframe\">\n",
       "  <thead>\n",
       "    <tr style=\"text-align: right;\">\n",
       "      <th></th>\n",
       "      <th>Path</th>\n",
       "      <th>x1</th>\n",
       "      <th>y1</th>\n",
       "      <th>x2</th>\n",
       "      <th>y2</th>\n",
       "      <th>x</th>\n",
       "      <th>y</th>\n",
       "      <th>width</th>\n",
       "      <th>height</th>\n",
       "      <th>type</th>\n",
       "      <th>cat</th>\n",
       "    </tr>\n",
       "  </thead>\n",
       "  <tbody>\n",
       "    <tr>\n",
       "      <th>0</th>\n",
       "      <td>img/Sheer_Pleated-Front_Blouse/img_00000001.jpg</td>\n",
       "      <td>72</td>\n",
       "      <td>79</td>\n",
       "      <td>232</td>\n",
       "      <td>273</td>\n",
       "      <td>0.506667</td>\n",
       "      <td>0.586667</td>\n",
       "      <td>0.533333</td>\n",
       "      <td>-0.646667</td>\n",
       "      <td>train</td>\n",
       "      <td>3</td>\n",
       "    </tr>\n",
       "    <tr>\n",
       "      <th>1</th>\n",
       "      <td>img/Sheer_Pleated-Front_Blouse/img_00000002.jpg</td>\n",
       "      <td>67</td>\n",
       "      <td>59</td>\n",
       "      <td>155</td>\n",
       "      <td>161</td>\n",
       "      <td>0.370000</td>\n",
       "      <td>0.536585</td>\n",
       "      <td>0.293333</td>\n",
       "      <td>-0.497561</td>\n",
       "      <td>train</td>\n",
       "      <td>3</td>\n",
       "    </tr>\n",
       "    <tr>\n",
       "      <th>2</th>\n",
       "      <td>img/Sheer_Pleated-Front_Blouse/img_00000003.jpg</td>\n",
       "      <td>65</td>\n",
       "      <td>65</td>\n",
       "      <td>156</td>\n",
       "      <td>200</td>\n",
       "      <td>0.368333</td>\n",
       "      <td>0.640097</td>\n",
       "      <td>0.303333</td>\n",
       "      <td>-0.652174</td>\n",
       "      <td>val</td>\n",
       "      <td>3</td>\n",
       "    </tr>\n",
       "    <tr>\n",
       "      <th>3</th>\n",
       "      <td>img/Sheer_Pleated-Front_Blouse/img_00000004.jpg</td>\n",
       "      <td>51</td>\n",
       "      <td>62</td>\n",
       "      <td>167</td>\n",
       "      <td>182</td>\n",
       "      <td>0.436000</td>\n",
       "      <td>0.610000</td>\n",
       "      <td>0.464000</td>\n",
       "      <td>-0.600000</td>\n",
       "      <td>train</td>\n",
       "      <td>3</td>\n",
       "    </tr>\n",
       "    <tr>\n",
       "      <th>4</th>\n",
       "      <td>img/Sheer_Pleated-Front_Blouse/img_00000005.jpg</td>\n",
       "      <td>46</td>\n",
       "      <td>88</td>\n",
       "      <td>166</td>\n",
       "      <td>262</td>\n",
       "      <td>0.353333</td>\n",
       "      <td>0.875000</td>\n",
       "      <td>0.400000</td>\n",
       "      <td>-0.870000</td>\n",
       "      <td>test</td>\n",
       "      <td>3</td>\n",
       "    </tr>\n",
       "  </tbody>\n",
       "</table>\n",
       "</div>"
      ],
      "text/plain": [
       "                                              Path  x1  y1   x2   y2  \\\n",
       "0  img/Sheer_Pleated-Front_Blouse/img_00000001.jpg  72  79  232  273   \n",
       "1  img/Sheer_Pleated-Front_Blouse/img_00000002.jpg  67  59  155  161   \n",
       "2  img/Sheer_Pleated-Front_Blouse/img_00000003.jpg  65  65  156  200   \n",
       "3  img/Sheer_Pleated-Front_Blouse/img_00000004.jpg  51  62  167  182   \n",
       "4  img/Sheer_Pleated-Front_Blouse/img_00000005.jpg  46  88  166  262   \n",
       "\n",
       "          x         y     width    height   type cat  \n",
       "0  0.506667  0.586667  0.533333 -0.646667  train   3  \n",
       "1  0.370000  0.536585  0.293333 -0.497561  train   3  \n",
       "2  0.368333  0.640097  0.303333 -0.652174    val   3  \n",
       "3  0.436000  0.610000  0.464000 -0.600000  train   3  \n",
       "4  0.353333  0.875000  0.400000 -0.870000   test   3  "
      ]
     },
     "execution_count": 21,
     "metadata": {},
     "output_type": "execute_result"
    }
   ],
   "source": []
  },
  {
   "cell_type": "code",
   "execution_count": null,
   "metadata": {},
   "outputs": [],
   "source": []
  }
 ],
 "metadata": {
  "kernelspec": {
   "display_name": "Python 3",
   "language": "python",
   "name": "python3"
  },
  "language_info": {
   "codemirror_mode": {
    "name": "ipython",
    "version": 3
   },
   "file_extension": ".py",
   "mimetype": "text/x-python",
   "name": "python",
   "nbconvert_exporter": "python",
   "pygments_lexer": "ipython3",
   "version": "3.6.6"
  },
  "toc": {
   "base_numbering": 1,
   "nav_menu": {},
   "number_sections": true,
   "sideBar": true,
   "skip_h1_title": false,
   "title_cell": "Table of Contents",
   "title_sidebar": "Contents",
   "toc_cell": false,
   "toc_position": {},
   "toc_section_display": true,
   "toc_window_display": false
  },
  "varInspector": {
   "cols": {
    "lenName": 16,
    "lenType": 16,
    "lenVar": 40
   },
   "kernels_config": {
    "python": {
     "delete_cmd_postfix": "",
     "delete_cmd_prefix": "del ",
     "library": "var_list.py",
     "varRefreshCmd": "print(var_dic_list())"
    },
    "r": {
     "delete_cmd_postfix": ") ",
     "delete_cmd_prefix": "rm(",
     "library": "var_list.r",
     "varRefreshCmd": "cat(var_dic_list()) "
    }
   },
   "types_to_exclude": [
    "module",
    "function",
    "builtin_function_or_method",
    "instance",
    "_Feature"
   ],
   "window_display": false
  }
 },
 "nbformat": 4,
 "nbformat_minor": 2
}
