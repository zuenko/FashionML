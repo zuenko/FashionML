{
 "cells": [
  {
   "cell_type": "code",
   "execution_count": 2,
   "metadata": {
    "ExecuteTime": {
     "end_time": "2018-07-17T21:33:31.748158Z",
     "start_time": "2018-07-17T21:33:31.456809Z"
    }
   },
   "outputs": [],
   "source": [
    "import numpy as np, pandas as pd\n",
    "import cv2\n",
    "from tqdm import tqdm_notebook, tqdm\n",
    "tqdm.pandas(desc=\"my bar!\")"
   ]
  },
  {
   "cell_type": "code",
   "execution_count": 2,
   "metadata": {
    "ExecuteTime": {
     "end_time": "2018-07-17T09:38:15.950322Z",
     "start_time": "2018-07-17T09:38:15.948839Z"
    }
   },
   "outputs": [],
   "source": [
    "DATA_PATH = '/home/denis/GitHub/FashionML/data/'"
   ]
  },
  {
   "cell_type": "markdown",
   "metadata": {},
   "source": [
    "Landmarks "
   ]
  },
  {
   "cell_type": "code",
   "execution_count": 3,
   "metadata": {
    "ExecuteTime": {
     "end_time": "2018-07-17T21:33:32.772372Z",
     "start_time": "2018-07-17T21:33:32.233368Z"
    }
   },
   "outputs": [],
   "source": [
    "df = pd.read_csv('data/Anno/annotation_w-o_atr.csv')"
   ]
  },
  {
   "cell_type": "code",
   "execution_count": 4,
   "metadata": {
    "ExecuteTime": {
     "end_time": "2018-07-17T09:38:16.734634Z",
     "start_time": "2018-07-17T09:38:16.361077Z"
    }
   },
   "outputs": [],
   "source": [
    "np.savetxt('data/train.txt', df[df['type'] == 'train']['Path'].apply(lambda x: DATA_PATH + x).values, fmt='%s')\n",
    "np.savetxt('data/test.txt', df[df['type'] == 'test']['Path'].apply(lambda x: DATA_PATH + x).values, fmt='%s')\n",
    "np.savetxt('data/val.txt', df[df['type'] == 'val']['Path'].apply(lambda x: DATA_PATH + x).values, fmt='%s')"
   ]
  },
  {
   "cell_type": "raw",
   "metadata": {},
   "source": [
    "[category number] [object center in X] [object center in Y] [object width in X] [object height in Y]"
   ]
  },
  {
   "cell_type": "code",
   "execution_count": 5,
   "metadata": {
    "ExecuteTime": {
     "end_time": "2018-07-17T09:38:16.737325Z",
     "start_time": "2018-07-17T09:38:16.735669Z"
    }
   },
   "outputs": [],
   "source": []
  },
  {
   "cell_type": "code",
   "execution_count": 6,
   "metadata": {
    "ExecuteTime": {
     "end_time": "2018-07-17T09:38:16.754436Z",
     "start_time": "2018-07-17T09:38:16.738346Z"
    }
   },
   "outputs": [],
   "source": [
    "def save_txt(name, text):\n",
    "    with open(name, 'w+') as f:\n",
    "        f.write(text)\n",
    "\n",
    "def make_img_txt(t = 'train'):\n",
    "    path_change = []\n",
    "    for itr, path in tqdm_notebook(enumerate(df[df['type'] == t]['Path'].values)):\n",
    "        image = cv2.imread(DATA_PATH+path)\n",
    "        name = DATA_PATH + 'sets/' +t + '/' + str(itr)\n",
    "        path_change.append(name + '.jpg')\n",
    "        cv2.imwrite(name+'.jpg', image)\n",
    "        save_txt(name + '.txt', ' '.join(df.loc[itr][['cat', 'x', 'y', 'width', 'height']].astype(str).values))\n",
    "    np.savetxt('data/'+t+ '.txt', path_change, fmt='%s')"
   ]
  },
  {
   "cell_type": "code",
   "execution_count": 7,
   "metadata": {
    "ExecuteTime": {
     "end_time": "2018-07-17T09:44:51.026881Z",
     "start_time": "2018-07-17T09:38:16.755397Z"
    }
   },
   "outputs": [
    {
     "data": {
      "application/vnd.jupyter.widget-view+json": {
       "model_id": "51fbc9ae4f544c4dbe608713ded6f089",
       "version_major": 2,
       "version_minor": 0
      },
      "text/plain": [
       "HBox(children=(IntProgress(value=1, bar_style='info', max=1), HTML(value='')))"
      ]
     },
     "metadata": {},
     "output_type": "display_data"
    },
    {
     "name": "stdout",
     "output_type": "stream",
     "text": [
      "\n"
     ]
    },
    {
     "data": {
      "application/vnd.jupyter.widget-view+json": {
       "model_id": "1e8ce31b87d54ccfaaa4ba3ca57ba94a",
       "version_major": 2,
       "version_minor": 0
      },
      "text/plain": [
       "HBox(children=(IntProgress(value=1, bar_style='info', max=1), HTML(value='')))"
      ]
     },
     "metadata": {},
     "output_type": "display_data"
    },
    {
     "name": "stdout",
     "output_type": "stream",
     "text": [
      "\n"
     ]
    }
   ],
   "source": [
    "make_img_txt('train')\n",
    "make_img_txt('test')"
   ]
  },
  {
   "cell_type": "code",
   "execution_count": 4,
   "metadata": {
    "ExecuteTime": {
     "end_time": "2018-07-17T21:33:36.441988Z",
     "start_time": "2018-07-17T21:33:36.425702Z"
    }
   },
   "outputs": [
    {
     "data": {
      "text/html": [
       "<div>\n",
       "<style scoped>\n",
       "    .dataframe tbody tr th:only-of-type {\n",
       "        vertical-align: middle;\n",
       "    }\n",
       "\n",
       "    .dataframe tbody tr th {\n",
       "        vertical-align: top;\n",
       "    }\n",
       "\n",
       "    .dataframe thead th {\n",
       "        text-align: right;\n",
       "    }\n",
       "</style>\n",
       "<table border=\"1\" class=\"dataframe\">\n",
       "  <thead>\n",
       "    <tr style=\"text-align: right;\">\n",
       "      <th></th>\n",
       "      <th>Path</th>\n",
       "      <th>x1</th>\n",
       "      <th>y1</th>\n",
       "      <th>x2</th>\n",
       "      <th>y2</th>\n",
       "      <th>x</th>\n",
       "      <th>y</th>\n",
       "      <th>width</th>\n",
       "      <th>height</th>\n",
       "      <th>type</th>\n",
       "      <th>cat</th>\n",
       "    </tr>\n",
       "  </thead>\n",
       "  <tbody>\n",
       "    <tr>\n",
       "      <th>0</th>\n",
       "      <td>img/Sheer_Pleated-Front_Blouse/img_00000001.jpg</td>\n",
       "      <td>72</td>\n",
       "      <td>79</td>\n",
       "      <td>232</td>\n",
       "      <td>273</td>\n",
       "      <td>0.506667</td>\n",
       "      <td>0.586667</td>\n",
       "      <td>0.533333</td>\n",
       "      <td>-0.646667</td>\n",
       "      <td>train</td>\n",
       "      <td>2</td>\n",
       "    </tr>\n",
       "    <tr>\n",
       "      <th>1</th>\n",
       "      <td>img/Sheer_Pleated-Front_Blouse/img_00000002.jpg</td>\n",
       "      <td>67</td>\n",
       "      <td>59</td>\n",
       "      <td>155</td>\n",
       "      <td>161</td>\n",
       "      <td>0.370000</td>\n",
       "      <td>0.536585</td>\n",
       "      <td>0.293333</td>\n",
       "      <td>-0.497561</td>\n",
       "      <td>train</td>\n",
       "      <td>2</td>\n",
       "    </tr>\n",
       "    <tr>\n",
       "      <th>2</th>\n",
       "      <td>img/Sheer_Pleated-Front_Blouse/img_00000003.jpg</td>\n",
       "      <td>65</td>\n",
       "      <td>65</td>\n",
       "      <td>156</td>\n",
       "      <td>200</td>\n",
       "      <td>0.368333</td>\n",
       "      <td>0.640097</td>\n",
       "      <td>0.303333</td>\n",
       "      <td>-0.652174</td>\n",
       "      <td>val</td>\n",
       "      <td>2</td>\n",
       "    </tr>\n",
       "    <tr>\n",
       "      <th>3</th>\n",
       "      <td>img/Sheer_Pleated-Front_Blouse/img_00000004.jpg</td>\n",
       "      <td>51</td>\n",
       "      <td>62</td>\n",
       "      <td>167</td>\n",
       "      <td>182</td>\n",
       "      <td>0.436000</td>\n",
       "      <td>0.610000</td>\n",
       "      <td>0.464000</td>\n",
       "      <td>-0.600000</td>\n",
       "      <td>train</td>\n",
       "      <td>2</td>\n",
       "    </tr>\n",
       "    <tr>\n",
       "      <th>4</th>\n",
       "      <td>img/Sheer_Pleated-Front_Blouse/img_00000005.jpg</td>\n",
       "      <td>46</td>\n",
       "      <td>88</td>\n",
       "      <td>166</td>\n",
       "      <td>262</td>\n",
       "      <td>0.353333</td>\n",
       "      <td>0.875000</td>\n",
       "      <td>0.400000</td>\n",
       "      <td>-0.870000</td>\n",
       "      <td>test</td>\n",
       "      <td>2</td>\n",
       "    </tr>\n",
       "  </tbody>\n",
       "</table>\n",
       "</div>"
      ],
      "text/plain": [
       "                                              Path  x1  y1   x2   y2  \\\n",
       "0  img/Sheer_Pleated-Front_Blouse/img_00000001.jpg  72  79  232  273   \n",
       "1  img/Sheer_Pleated-Front_Blouse/img_00000002.jpg  67  59  155  161   \n",
       "2  img/Sheer_Pleated-Front_Blouse/img_00000003.jpg  65  65  156  200   \n",
       "3  img/Sheer_Pleated-Front_Blouse/img_00000004.jpg  51  62  167  182   \n",
       "4  img/Sheer_Pleated-Front_Blouse/img_00000005.jpg  46  88  166  262   \n",
       "\n",
       "          x         y     width    height   type  cat  \n",
       "0  0.506667  0.586667  0.533333 -0.646667  train    2  \n",
       "1  0.370000  0.536585  0.293333 -0.497561  train    2  \n",
       "2  0.368333  0.640097  0.303333 -0.652174    val    2  \n",
       "3  0.436000  0.610000  0.464000 -0.600000  train    2  \n",
       "4  0.353333  0.875000  0.400000 -0.870000   test    2  "
      ]
     },
     "execution_count": 4,
     "metadata": {},
     "output_type": "execute_result"
    }
   ],
   "source": [
    "df.head()"
   ]
  },
  {
   "cell_type": "code",
   "execution_count": 4,
   "metadata": {
    "ExecuteTime": {
     "end_time": "2018-07-18T18:45:03.000793Z",
     "start_time": "2018-07-18T18:45:02.994925Z"
    }
   },
   "outputs": [],
   "source": [
    "a = [3.2706783536779653, -7.402037343689182, 5.2830460886471515, -12.725290834387954, 6.7742396219804, -7.953125875960489, 8.715932887695889, -13.87014414439967, 13.289005515021245, -10.197535057807233]\n"
   ]
  },
  {
   "cell_type": "code",
   "execution_count": 6,
   "metadata": {
    "ExecuteTime": {
     "end_time": "2018-07-18T18:45:13.060625Z",
     "start_time": "2018-07-18T18:45:13.051347Z"
    }
   },
   "outputs": [
    {
     "data": {
      "text/plain": [
       "[104, -236, 169, -407, 216, -254, 278, -443, 425, -326]"
      ]
     },
     "execution_count": 6,
     "metadata": {},
     "output_type": "execute_result"
    }
   ],
   "source": [
    "[int(a[i]*32) for i in range(len(a))]"
   ]
  },
  {
   "cell_type": "code",
   "execution_count": null,
   "metadata": {},
   "outputs": [],
   "source": []
  }
 ],
 "metadata": {
  "kernelspec": {
   "display_name": "Python 3",
   "language": "python",
   "name": "python3"
  },
  "language_info": {
   "codemirror_mode": {
    "name": "ipython",
    "version": 3
   },
   "file_extension": ".py",
   "mimetype": "text/x-python",
   "name": "python",
   "nbconvert_exporter": "python",
   "pygments_lexer": "ipython3",
   "version": "3.6.6"
  },
  "toc": {
   "base_numbering": 1,
   "nav_menu": {},
   "number_sections": true,
   "sideBar": true,
   "skip_h1_title": false,
   "title_cell": "Table of Contents",
   "title_sidebar": "Contents",
   "toc_cell": false,
   "toc_position": {},
   "toc_section_display": true,
   "toc_window_display": false
  },
  "varInspector": {
   "cols": {
    "lenName": 16,
    "lenType": 16,
    "lenVar": 40
   },
   "kernels_config": {
    "python": {
     "delete_cmd_postfix": "",
     "delete_cmd_prefix": "del ",
     "library": "var_list.py",
     "varRefreshCmd": "print(var_dic_list())"
    },
    "r": {
     "delete_cmd_postfix": ") ",
     "delete_cmd_prefix": "rm(",
     "library": "var_list.r",
     "varRefreshCmd": "cat(var_dic_list()) "
    }
   },
   "types_to_exclude": [
    "module",
    "function",
    "builtin_function_or_method",
    "instance",
    "_Feature"
   ],
   "window_display": false
  }
 },
 "nbformat": 4,
 "nbformat_minor": 2
}
